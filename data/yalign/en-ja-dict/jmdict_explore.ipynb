{
 "cells": [
  {
   "cell_type": "code",
   "execution_count": 66,
   "metadata": {},
   "outputs": [],
   "source": [
    "import sys\n",
    "import xml.etree.ElementTree as ET\n",
    "from tqdm import tqdm\n",
    "#reload(sys)\n",
    "#sys.setdefaultencoding('utf8')\n",
    "import time\n"
   ]
  },
  {
   "cell_type": "code",
   "execution_count": 67,
   "metadata": {},
   "outputs": [],
   "source": [
    "\n",
    "stops = 'stop_words.txt'\n",
    "jmdict = 'JMdict_e'\n",
    "\n",
    "start = time.time()\n",
    "print 'parsing jmdict...'\n",
    "jmdic_root = ET.parse(jmdict).getroot()\n",
    "print 'done. took %.2fs' % (time.time() - start)\n",
    "\n",
    "print jmdic_root\n",
    "\n"
   ]
  },
  {
   "cell_type": "code",
   "execution_count": 68,
   "metadata": {},
   "outputs": [],
   "source": [
    "\n",
    "for e in jmdic_root.findall('entry'):\n",
    "    ja = []\n",
    "\n",
    "    for k_ele in (e.findall('k_ele') or []):\n",
    "        for keb in (k_ele.findall('keb') or []):\n",
    "            ja.append(keb.text)\n",
    "\n",
    "    for r_ele in (e.findall('r_ele') or []):\n",
    "        for reb in (r_ele.findall('reb') or []):\n",
    "            ja.append(reb.text)\n",
    "    \n",
    "    trans = []\n",
    "    for gloss in (e.find('sense').findall('gloss') or []):\n",
    "        trans.append(gloss.text)\n",
    "    \n",
    "    "
   ]
  },
  {
   "cell_type": "code",
   "execution_count": 65,
   "metadata": {},
   "outputs": [],
   "source": [
    "print('hi')"
   ]
  },
  {
   "cell_type": "code",
   "execution_count": 37,
   "metadata": {},
   "outputs": [],
   "source": []
  },
  {
   "cell_type": "code",
   "execution_count": null,
   "metadata": {},
   "outputs": [],
   "source": []
  }
 ],
 "metadata": {
  "kernelspec": {
   "display_name": "Python 2",
   "language": "python",
   "name": "python2"
  },
  "language_info": {
   "codemirror_mode": {
    "name": "ipython",
    "version": 2
   },
   "file_extension": ".py",
   "mimetype": "text/x-python",
   "name": "python",
   "nbconvert_exporter": "python",
   "pygments_lexer": "ipython2",
   "version": "2.7.10"
  }
 },
 "nbformat": 4,
 "nbformat_minor": 2
}
